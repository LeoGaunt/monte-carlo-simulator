{
 "cells": [
  {
   "cell_type": "markdown",
   "id": "604cb72d",
   "metadata": {},
   "source": [
    "# Monte Carlo Simulator for Retirement Planning"
   ]
  },
  {
   "cell_type": "markdown",
   "id": "40ec31d7",
   "metadata": {},
   "source": [
    "This aim of this project is to use a monte carlo style approach to estimate the probability of a person achieving their financial goals for when they retire.\n",
    "\n",
    "Retirement planning is uncertain as money growth will depend on investment returns. If you assumed a fixed return every year, this would be simple as it could just be calculated as compound interest. However real markets are not that stabale and can (and do) fluctuate.\n",
    "\n",
    "Monte carlo helps model possible outcomes as instead of a fixed percentage return we pretend each year's return is random and drawn from a distribution with:\n",
    "* A mean (the average expected return)\n",
    "* A standard deviation (volatility, or how much returns may vary)\n",
    "And each simulation is one possible future of the final retirement savings. As we run thousands of these simulations, this gives us a wide range of outcomes and allows us to estimate the probability of reaching a financial target."
   ]
  }
 ],
 "metadata": {
  "language_info": {
   "name": "python"
  }
 },
 "nbformat": 4,
 "nbformat_minor": 5
}
