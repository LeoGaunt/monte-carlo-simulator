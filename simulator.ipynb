{
 "cells": [
  {
   "cell_type": "markdown",
   "id": "604cb72d",
   "metadata": {},
   "source": [
    "# Monte Carlo Simulator for Retirement Planning"
   ]
  },
  {
   "cell_type": "markdown",
   "id": "40ec31d7",
   "metadata": {},
   "source": [
    "This aim of this project is to use a monte carlo style approach to estimate the probability of a person achieving their financial goals for when they retire.\n",
    "\n",
    "Retirement planning is uncertain as money growth will depend on investment returns. If you assumed a fixed return every year, this would be simple as it could just be calculated as compound interest. However real markets are not that stabale and can (and do) fluctuate.\n",
    "\n",
    "Monte carlo helps model possible outcomes as instead of a fixed percentage return we pretend each year's return is random and drawn from a distribution with:\n",
    "* A mean (the average expected return)\n",
    "* A standard deviation (volatility, or how much returns may vary)\n",
    "And each simulation is one possible future of the final retirement savings. As we run thousands of these simulations, this gives us a wide range of outcomes and allows us to estimate the probability of reaching a financial target."
   ]
  },
  {
   "cell_type": "markdown",
   "id": "e6cfe882",
   "metadata": {},
   "source": [
    "## Imports and Setup"
   ]
  },
  {
   "cell_type": "markdown",
   "id": "92534049",
   "metadata": {},
   "source": [
    "Before we can run simulations we need to import the python libraries that will help us:\n",
    "* NumPy: for generating random returns and handling numerical calculations.\n",
    "* Pandas: for organizing simulation results in a structured way.\n",
    "* Matplotlib / Seaborn: for creating visualizations of the outcomes."
   ]
  },
  {
   "cell_type": "code",
   "execution_count": null,
   "id": "fd62a386",
   "metadata": {},
   "outputs": [],
   "source": [
    "import numpy as np\n",
    "import matplotlib.pyplot as plt\n",
    "import pandas as pd\n",
    "import seaborn as sns"
   ]
  },
  {
   "cell_type": "markdown",
   "id": "1240cbf0",
   "metadata": {},
   "source": [
    "## Input Definition"
   ]
  },
  {
   "cell_type": "markdown",
   "id": "ae2ea875",
   "metadata": {},
   "source": [
    "Now that the libraries are ready, we need to define the simulation's inputs. These are the values that represent the assumptions about a person's retirement plan:\n",
    "* Initial savings: how much money is already saved today.\n",
    "* Annual contribution: how much is added to savings each year.\n",
    "* Expected return: the average yearly investment return (e.g. 6%).\n",
    "* Volatility: how much the yearly return fluctuates (measured as standard deviation, e.g. 15%).\n",
    "* Years until retirement: the time horizon of the investment plan.\n",
    "* Target: the amount the person wants to have at retirement.\n",
    "* Number of simulations: how many Monte Carlo trials we want to run. More simulations = more accuracy.\n",
    "These parameters can be adjusted to explore different scenarios"
   ]
  },
  {
   "cell_type": "code",
   "execution_count": null,
   "id": "9d833309",
   "metadata": {},
   "outputs": [],
   "source": [
    "# Retirement planning assumptions\n",
    "initial_savings = 10_000       # starting balance (£)\n",
    "annual_contribution = 5_000    # yearly contribution (£)\n",
    "expected_return = 0.06         # average return\n",
    "volatility = 0.15              # standard deviation\n",
    "years = 35                     # investment horizon\n",
    "target = 1_000_000             # retirement target (£)\n",
    "\n",
    "# Monte Carlo setup\n",
    "simulations = 10_000           # number of runs"
   ]
  }
 ],
 "metadata": {
  "kernelspec": {
   "display_name": "Python 3",
   "language": "python",
   "name": "python3"
  },
  "language_info": {
   "name": "python",
   "version": "3.10.10"
  }
 },
 "nbformat": 4,
 "nbformat_minor": 5
}
